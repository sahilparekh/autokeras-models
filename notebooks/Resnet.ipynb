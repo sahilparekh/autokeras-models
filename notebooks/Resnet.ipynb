{
 "cells": [
  {
   "cell_type": "code",
   "execution_count": null,
   "metadata": {},
   "outputs": [],
   "source": [
    "import os\n",
    "import shutil\n",
    "import sys\n",
    "sys.path.append('../datapipeline')\n",
    "sys.path.append('../imgclsmob/tensorflow2')\n",
    "sys.path.append('../akhelpers')\n",
    "\n",
    "\n",
    "import autokeras as ak\n",
    "from Resnet_AK import CustomResnetBlock\n",
    "\n",
    "import random\n",
    "random.seed(47)\n",
    "import numpy as np\n",
    "import tensorflow as tf\n",
    "from tensorflow.keras.datasets import cifar10\n",
    "from tensorflow.python.keras.utils.data_utils import Sequence\n",
    "from kerastuner.engine.hyperparameters import HyperParameters\n",
    "\n",
    "from tensorflow.keras.callbacks import EarlyStopping, ReduceLROnPlateau"
   ]
  },
  {
   "cell_type": "code",
   "execution_count": null,
   "metadata": {},
   "outputs": [],
   "source": [
    "(x_train, y_train), (x_test, y_test) = cifar10.load_data()\n",
    "print(x_train.shape)  # (50000, 32, 32, 3)\n",
    "print(y_train.shape)  # (50000, 1)\n",
    "print(y_train[:3])  # [[6], [9], [9]]\n",
    "print(x_test.shape)  # (10000, 32, 32, 3)\n",
    "print(y_test.shape)  # (10000, 1)"
   ]
  },
  {
   "cell_type": "code",
   "execution_count": null,
   "metadata": {},
   "outputs": [],
   "source": [
    "IMAGE_SIZE = x_train.shape[1:]\n",
    "NUM_CHANNELS = (3,)\n",
    "NUM_CLASSES = 10\n",
    "MAX_NETWORK_SEARCH_TRIALS = 3\n",
    "# batchsize has to be 1 if IMAGE_SIZE is (None, None), raggedtensor is yet not supproted\n",
    "BATCH_SIZE = 128\n",
    "VAL_DS_SIZE = 1000\n",
    "TRAIN_DS_SIZE = 10000\n",
    "EPOCHS = 10\n",
    "MODEL_DIR = 'auto_model'\n",
    "PROJECT_NAME = 'resnet_ak'\n",
    "OVERITE_PROJECT = True\n",
    "\n",
    "# has_bg = False"
   ]
  },
  {
   "cell_type": "code",
   "execution_count": null,
   "metadata": {},
   "outputs": [],
   "source": [
    "# restric the search space\n",
    "hp = HyperParameters()\n",
    "hp.Choice(\n",
    "            \"optimizer\",\n",
    "            [\"adam\", \"sgd\"],\n",
    "            default=\"adam\",\n",
    "        )"
   ]
  },
  {
   "cell_type": "code",
   "execution_count": null,
   "metadata": {},
   "outputs": [],
   "source": [
    "zipped_test = list(zip(x_test, y_test))\n",
    "random.shuffle(zipped_test)\n",
    "zipped_train = list(zip(x_train, y_train))\n",
    "random.shuffle(zipped_train)"
   ]
  },
  {
   "cell_type": "code",
   "execution_count": null,
   "metadata": {},
   "outputs": [],
   "source": [
    "zipped_train = list(zip(*zipped_train)) \n",
    "zipped_test = list(zip(*zipped_test)) "
   ]
  },
  {
   "cell_type": "code",
   "execution_count": null,
   "metadata": {},
   "outputs": [],
   "source": [
    "(sel_x_train, sel_y_train) = zipped_train\n",
    "(sel_x_test, sel_y_test) = zipped_test"
   ]
  },
  {
   "cell_type": "code",
   "execution_count": null,
   "metadata": {},
   "outputs": [],
   "source": [
    "sel_x_train = sel_x_train[:TRAIN_DS_SIZE]\n",
    "sel_y_train = sel_y_train[:TRAIN_DS_SIZE]\n",
    "sel_x_test = sel_x_test[:VAL_DS_SIZE]\n",
    "sel_y_test = sel_y_test[:VAL_DS_SIZE]"
   ]
  },
  {
   "cell_type": "code",
   "execution_count": null,
   "metadata": {},
   "outputs": [],
   "source": [
    "sel_y_train = np.reshape(sel_y_train, (TRAIN_DS_SIZE, ))\n",
    "sel_y_test = np.reshape(sel_y_test, (VAL_DS_SIZE, ))"
   ]
  },
  {
   "cell_type": "code",
   "execution_count": null,
   "metadata": {},
   "outputs": [],
   "source": [
    "sel_y_train = tf.one_hot(sel_y_train, NUM_CLASSES)\n",
    "sel_y_test = tf.one_hot(sel_y_test, NUM_CLASSES)\n"
   ]
  },
  {
   "cell_type": "code",
   "execution_count": null,
   "metadata": {},
   "outputs": [],
   "source": [
    "sel_y_test = sel_y_test.numpy()\n",
    "sel_y_train = sel_y_train.numpy()"
   ]
  },
  {
   "cell_type": "code",
   "execution_count": null,
   "metadata": {},
   "outputs": [],
   "source": [
    "sel_x_train = np.stack(sel_x_train, axis = 0)\n",
    "print(sel_x_train.shape)\n",
    "sel_x_test = np.stack(sel_x_test, axis = 0)\n",
    "print(sel_x_test.shape)"
   ]
  },
  {
   "cell_type": "markdown",
   "metadata": {},
   "source": [
    "### Define Model"
   ]
  },
  {
   "cell_type": "code",
   "execution_count": null,
   "metadata": {},
   "outputs": [],
   "source": [
    "input_node = ak.Input()\n",
    "output_node = ak.ImageAugmentation(\n",
    "    translation_factor=0.2,\n",
    "    vertical_flip=False,\n",
    "    horizontal_flip=True,\n",
    "    rotation_factor=0.3,\n",
    "    zoom_factor=0.2,\n",
    "    contrast_factor=0.2\n",
    ")(input_node)\n",
    "output_node = ak.Normalization()(output_node)\n",
    "output_node = CustomResnetBlock(in_size=IMAGE_SIZE)(output_node)\n",
    "output_node = ak.ClassificationHead(num_classes=NUM_CLASSES, multi_label=False)(output_node)\n",
    "auto_model = ak.AutoModel(\n",
    "    inputs=input_node, \n",
    "    outputs=output_node,\n",
    "    overwrite=OVERITE_PROJECT,\n",
    "    directory=MODEL_DIR,\n",
    "    hyperparameters=hp,\n",
    "    max_trials=MAX_NETWORK_SEARCH_TRIALS,\n",
    "    project_name=PROJECT_NAME)"
   ]
  },
  {
   "cell_type": "markdown",
   "metadata": {},
   "source": [
    "### Train Model"
   ]
  },
  {
   "cell_type": "code",
   "execution_count": null,
   "metadata": {},
   "outputs": [],
   "source": [
    "# only tested with 'greedy' algorithm. it deletes the checkpoint after every trial saving disk space\n",
    "class ClearTrialCheckpoints(tf.keras.callbacks.Callback):\n",
    "    def on_train_end(*args, **kwargs):\n",
    "        dir_to_look = os.path.join(MODEL_DIR, PROJECT_NAME)\n",
    "        dir_ls = [os.path.join(dir_to_look, d) for d in os.listdir(dir_to_look) if os.path.isdir(os.path.join(dir_to_look, d)) and 'trial' in d]\n",
    "        for d in dir_ls:\n",
    "            dir_of_concern = os.path.join(d, 'checkpoints')\n",
    "            if os.path.isdir(dir_of_concern):\n",
    "                print(dir_of_concern)\n",
    "                shutil.rmtree(dir_of_concern)\n"
   ]
  },
  {
   "cell_type": "code",
   "execution_count": null,
   "metadata": {},
   "outputs": [],
   "source": [
    "callbacks = [EarlyStopping(patience=3),\n",
    "            ReduceLROnPlateau(patience=1),\n",
    "             ClearTrialCheckpoints(),\n",
    "            ]"
   ]
  },
  {
   "cell_type": "code",
   "execution_count": null,
   "metadata": {},
   "outputs": [],
   "source": [
    "# auto_model.fit(train_dataset, validation_data=val_dataset, batch_size=None, epochs=EPOCHS, callbacks=callbacks)\n",
    "auto_model.fit(sel_x_train, sel_y_train, validation_data=(sel_x_test, sel_y_test), batch_size=BATCH_SIZE, epochs=EPOCHS, callbacks=callbacks)"
   ]
  },
  {
   "cell_type": "markdown",
   "metadata": {},
   "source": [
    "### Show Model "
   ]
  },
  {
   "cell_type": "code",
   "execution_count": null,
   "metadata": {},
   "outputs": [],
   "source": [
    "model = auto_model.export_model()\n",
    "model.summary()"
   ]
  },
  {
   "cell_type": "code",
   "execution_count": null,
   "metadata": {},
   "outputs": [],
   "source": [
    "auto_model.tuner.results_summary()"
   ]
  },
  {
   "cell_type": "code",
   "execution_count": null,
   "metadata": {},
   "outputs": [],
   "source": [
    "dict(auto_model.tuner.get_best_hyperparameters(num_trials=1)[0])"
   ]
  },
  {
   "cell_type": "code",
   "execution_count": null,
   "metadata": {},
   "outputs": [],
   "source": [
    "a = [[1, 1, 1, 1], [2, 2, 2, 2]]"
   ]
  },
  {
   "cell_type": "code",
   "execution_count": null,
   "metadata": {},
   "outputs": [],
   "source": [
    "[a1[:3] for a1 in a]"
   ]
  },
  {
   "cell_type": "code",
   "execution_count": null,
   "metadata": {},
   "outputs": [],
   "source": []
  }
 ],
 "metadata": {
  "kernelspec": {
   "display_name": "Python 3",
   "language": "python",
   "name": "python3"
  },
  "language_info": {
   "codemirror_mode": {
    "name": "ipython",
    "version": 3
   },
   "file_extension": ".py",
   "mimetype": "text/x-python",
   "name": "python",
   "nbconvert_exporter": "python",
   "pygments_lexer": "ipython3",
   "version": "3.7.9"
  }
 },
 "nbformat": 4,
 "nbformat_minor": 4
}
